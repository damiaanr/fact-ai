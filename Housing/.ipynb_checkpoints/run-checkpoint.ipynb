{
 "cells": [
  {
   "cell_type": "code",
   "execution_count": 2,
   "metadata": {
    "pycharm": {
     "name": "#%%\n"
    }
   },
   "outputs": [
    {
     "ename": "NameError",
     "evalue": "name 'os' is not defined",
     "output_type": "error",
     "traceback": [
      "\u001b[0;31m---------------------------------------------------------------------------\u001b[0m",
      "\u001b[0;31mNameError\u001b[0m                                 Traceback (most recent call last)",
      "\u001b[0;32m<ipython-input-2-702fdef2cd79>\u001b[0m in \u001b[0;36m<module>\u001b[0;34m\u001b[0m\n\u001b[1;32m      8\u001b[0m \u001b[0mfeature_names\u001b[0m \u001b[0;34m=\u001b[0m \u001b[0;34m[\u001b[0m\u001b[0;34m\"CRIM\"\u001b[0m\u001b[0;34m,\u001b[0m \u001b[0;34m\"ZN\"\u001b[0m\u001b[0;34m,\u001b[0m \u001b[0;34m\"INDUS\"\u001b[0m\u001b[0;34m,\u001b[0m \u001b[0;34m\"CHAS\"\u001b[0m\u001b[0;34m,\u001b[0m \u001b[0;34m\"NOX\"\u001b[0m\u001b[0;34m,\u001b[0m \u001b[0;34m\"RM\"\u001b[0m\u001b[0;34m,\u001b[0m \u001b[0;34m\"AGE\"\u001b[0m\u001b[0;34m,\u001b[0m \u001b[0;34m\"DIS\"\u001b[0m\u001b[0;34m,\u001b[0m \u001b[0;34m\"RAD\"\u001b[0m\u001b[0;34m,\u001b[0m \u001b[0;34m\"TAX\"\u001b[0m\u001b[0;34m,\u001b[0m \u001b[0;34m\"PTRATIO\"\u001b[0m\u001b[0;34m,\u001b[0m \u001b[0;34m\"B\"\u001b[0m\u001b[0;34m,\u001b[0m \u001b[0;34m\"LSTAT\"\u001b[0m\u001b[0;34m]\u001b[0m\u001b[0;34m\u001b[0m\u001b[0;34m\u001b[0m\u001b[0m\n\u001b[1;32m      9\u001b[0m \u001b[0;34m\u001b[0m\u001b[0m\n\u001b[0;32m---> 10\u001b[0;31m \u001b[0mos\u001b[0m\u001b[0;34m.\u001b[0m\u001b[0msystem\u001b[0m\u001b[0;34m(\u001b[0m\u001b[0;34m\"rm *.png\"\u001b[0m\u001b[0;34m)\u001b[0m\u001b[0;34m\u001b[0m\u001b[0;34m\u001b[0m\u001b[0m\n\u001b[0m\u001b[1;32m     11\u001b[0m \u001b[0;34m\u001b[0m\u001b[0m\n\u001b[1;32m     12\u001b[0m \u001b[0;32mimport\u001b[0m \u001b[0mcsv\u001b[0m\u001b[0;34m\u001b[0m\u001b[0;34m\u001b[0m\u001b[0m\n",
      "\u001b[0;31mNameError\u001b[0m: name 'os' is not defined"
     ]
    }
   ],
   "source": [
    "# Chosen using results from Housing-K\n",
    "epsilon = 1.5\n",
    "k = 5\n",
    "\n",
    "input_dim = 13\n",
    "num_clusters = 6\n",
    "\n",
    "feature_names = [\"CRIM\", \"ZN\", \"INDUS\", \"CHAS\", \"NOX\", \"RM\", \"AGE\", \"DIS\", \"RAD\", \"TAX\", \"PTRATIO\", \"B\", \"LSTAT\"]\n",
    "\n",
    "import csv\n",
    "import json\n",
    "import numpy as np\n",
    "import os\n",
    "import pandas as pd\n",
    "\n",
    "os.system(\"rm *.png\")\n",
    "\n",
    "import sys\n",
    "sys.path.insert(0, \"../Code/\")\n",
    "from explain_cs import explain\n",
    "from load_scvis import load_vae\n",
    "from metrics import metrics, eval_epsilon\n",
    "from myplot import plot_polys, plot_groups, plot_metrics, plot_explanation, plot_change\n",
    "from misc import poly2labels\n",
    "from vars import root_path\n",
    "\n",
    "model_file = root_path + \"/Housing/Model/model/perplexity_10_regularizer_0.001_batch_size_505_learning_rate_0.01_latent_dimension_2_activation_ELU_seed_1_iter_3000.ckpt\"\n",
    "\n",
    "def load_model(input_dim = input_dim, model_file = model_file):\n",
    "    return load_vae(input_dim, model_file)\n"
   ]
  },
  {
   "cell_type": "code",
   "execution_count": 3,
   "metadata": {},
   "outputs": [
    {
     "ename": "ModuleNotFoundError",
     "evalue": "No module named 'Code'",
     "output_type": "error",
     "traceback": [
      "\u001b[0;31m---------------------------------------------------------------------------\u001b[0m",
      "\u001b[0;31mModuleNotFoundError\u001b[0m                       Traceback (most recent call last)",
      "\u001b[0;32m<ipython-input-3-4724ca681516>\u001b[0m in \u001b[0;36m<module>\u001b[0;34m\u001b[0m\n\u001b[1;32m     12\u001b[0m \u001b[0;32mimport\u001b[0m \u001b[0msys\u001b[0m\u001b[0;34m\u001b[0m\u001b[0;34m\u001b[0m\u001b[0m\n\u001b[1;32m     13\u001b[0m \u001b[0msys\u001b[0m\u001b[0;34m.\u001b[0m\u001b[0mpath\u001b[0m\u001b[0;34m.\u001b[0m\u001b[0minsert\u001b[0m\u001b[0;34m(\u001b[0m\u001b[0;36m0\u001b[0m\u001b[0;34m,\u001b[0m \u001b[0;34m\"../Code/\"\u001b[0m\u001b[0;34m)\u001b[0m\u001b[0;34m\u001b[0m\u001b[0;34m\u001b[0m\u001b[0m\n\u001b[0;32m---> 14\u001b[0;31m \u001b[0;32mfrom\u001b[0m \u001b[0mCode\u001b[0m\u001b[0;34m.\u001b[0m\u001b[0mexplain_cs\u001b[0m \u001b[0;32mimport\u001b[0m \u001b[0mexplain\u001b[0m\u001b[0;34m\u001b[0m\u001b[0;34m\u001b[0m\u001b[0m\n\u001b[0m\u001b[1;32m     15\u001b[0m \u001b[0;32mfrom\u001b[0m \u001b[0mCode\u001b[0m\u001b[0;34m.\u001b[0m\u001b[0mload_scvis\u001b[0m \u001b[0;32mimport\u001b[0m \u001b[0mload_vae\u001b[0m\u001b[0;34m\u001b[0m\u001b[0;34m\u001b[0m\u001b[0m\n\u001b[1;32m     16\u001b[0m \u001b[0;32mfrom\u001b[0m \u001b[0mCode\u001b[0m\u001b[0;34m.\u001b[0m\u001b[0mmetrics\u001b[0m \u001b[0;32mimport\u001b[0m \u001b[0mmetrics\u001b[0m\u001b[0;34m,\u001b[0m \u001b[0meval_epsilon\u001b[0m\u001b[0;34m\u001b[0m\u001b[0;34m\u001b[0m\u001b[0m\n",
      "\u001b[0;31mModuleNotFoundError\u001b[0m: No module named 'Code'"
     ]
    }
   ],
   "source": [
    "# Load Data & Configuration\n",
    "\n",
    "x = pd.read_csv(\"Data/X.tsv\", sep=\"\\t\").values\n",
    "\n",
    "y = pd.read_csv(\"Data/y.tsv\", sep=\"\\t\").values\n",
    "\n",
    "with open(\"vertices.json\") as json_file:  \n",
    "    all_vertices = json.load(json_file)\n"
   ]
  },
  {
   "cell_type": "code",
   "execution_count": null,
   "metadata": {},
   "outputs": [],
   "source": [
    "# Load Data & Configuration\n",
    "\n",
    "x = pd.read_csv(\"Data/X.tsv\", sep=\"\\t\").values\n",
    "\n",
    "y = pd.read_csv(\"Data/y.tsv\", sep=\"\\t\").values\n",
    "\n",
    "with open(\"vertices.json\") as json_file:  \n",
    "    all_vertices = json.load(json_file)\n"
   ]
  },
  {
   "cell_type": "code",
   "execution_count": null,
   "metadata": {},
   "outputs": [],
   "source": [
    "# Calculate Data Representation\n",
    "\n",
    "sess, rep, X, D = load_model()\n",
    "\n",
    "data_rep = sess.run(rep, feed_dict={X: x, D: np.zeros((1, input_dim))})\n"
   ]
  },
  {
   "cell_type": "code",
   "execution_count": null,
   "metadata": {},
   "outputs": [],
   "source": [
    "# Visualize the data and the marked clusters\n",
    "\n",
    "plot_polys(data_rep, all_vertices)\n"
   ]
  },
  {
   "cell_type": "code",
   "execution_count": null,
   "metadata": {},
   "outputs": [],
   "source": [
    "# Visualize the clusters in the learned representation\n",
    "\n",
    "labels = poly2labels(data_rep, all_vertices)\n",
    "\n",
    "means, centers, indices = plot_groups(x, data_rep, num_clusters, labels, name = \"housing-rep.png\")\n",
    " "
   ]
  },
  {
   "cell_type": "code",
   "execution_count": null,
   "metadata": {},
   "outputs": [],
   "source": [
    "# See what signal is enocded in the clusters\n",
    "\n",
    "import matplotlib.pyplot as plt\n",
    "import seaborn as sns\n",
    "\n",
    "fig, ax = plt.subplots(figsize=(10, 10))\n",
    "sns.boxplot(ax = ax, x = labels, y = np.squeeze(y))\n",
    "ax.set(xlabel = \"Group\", ylabel = \"Price\")\n",
    "ax.get_figure().savefig(\"housing-labels.png\")"
   ]
  },
  {
   "cell_type": "code",
   "execution_count": null,
   "metadata": {
    "scrolled": false
   },
   "outputs": [],
   "source": [
    "# Evaluate the explanations\n",
    "\n",
    "deltas = np.load(\"../Housing-K/deltas\" + str(k) + \".npy\")\n",
    "\n",
    "a, b = metrics(load_model, x, indices, deltas, epsilon, k = k)\n",
    "\n",
    "plot_metrics(a, b, name = \"housing-metrics.png\")\n",
    "\n",
    "plot_explanation(load_model, x, data_rep, indices, deltas, a, b, 0, 2, k = k, num_points = 10, name = \"housing-0to2.png\", feature_names = feature_names)\n",
    "\n",
    "plot_explanation(load_model, x, data_rep, indices, deltas, a, b, 3, 5, k = k,  num_points = 10, name = \"housing-3to5.png\", feature_names = feature_names)\n",
    "\n",
    "plot_explanation(load_model, x, data_rep, indices, deltas, a, b, 0, 4, k = k,  num_points = 10, name = \"housing-0to4.png\", feature_names = feature_names)\n"
   ]
  },
  {
   "cell_type": "code",
   "execution_count": null,
   "metadata": {},
   "outputs": [],
   "source": [
    "# Let's \"corrupt\" one of the groups\n",
    "\n",
    "corrupt = False\n",
    "target_corrupted = 1\n",
    "\n",
    "if corrupt:\n",
    "\n",
    "    indices_corrupted = np.where(labels == target_corrupted)\n",
    "    n_corrupted = len(indices_corrupted[0])\n",
    "\n",
    "    x_corrupted = x[indices_corrupted]\n",
    "    x_corrupted[:, 9] -= 0.5 + np.random.uniform(low = -0.1, high = 0.1, size = n_corrupted)\n",
    "    x_corrupted[:, 1] += 0.9 + np.random.uniform(low = -0.1, high = 0.1, size = n_corrupted)\n",
    "\n",
    "    x_full = np.vstack((x, x_corrupted))\n",
    "\n",
    "    np.savetxt(\"Data/X_corrupted.tsv\", x_full, delimiter = \"\\t\")\n",
    "\n",
    "    labels_full = np.vstack((np.expand_dims(labels, 1), num_clusters * np.ones((n_corrupted,1))))\n",
    "\n",
    "    np.savetxt(\"Data/labels_corrupted.tsv\", labels_full, delimiter = \"\\t\")\n",
    "else:\n",
    "    x_full = np.loadtxt(\"Data/X_corrupted.tsv\", delimiter = \"\\t\")\n",
    "    labels_full = np.loadtxt(\"Data/labels_corrupted.tsv\", delimiter = \"\\t\") \n",
    "\n",
    "# Compute the new representation\n",
    "data_rep_full = sess.run(rep, feed_dict={X: x_full, D: np.zeros((1, input_dim))})\n",
    "\n",
    "# Visualize the clusters in the learned representation\n",
    "means_full, centers_full, indices_full = plot_groups(x_full, data_rep_full, num_clusters + 1, labels_full, name = \"housing-rep-corrupted.png\")\n"
   ]
  },
  {
   "cell_type": "code",
   "execution_count": null,
   "metadata": {},
   "outputs": [],
   "source": [
    "# Compute the group explanations\n",
    "\n",
    "run = False\n",
    "\n",
    "if run:\n",
    "    os.system(\"rm deltas_corrupted.npy\")\n",
    "    \n",
    "    best_val = 0.0\n",
    "    for lg in [0.0, 0.5, 1.0, 1.5, 2.0, 2.5, 3.0, 3.5, 4.0, 4.5, 5.0]:\n",
    "        for trial in range(5):\n",
    "\n",
    "            deltas = explain(load_model, means_full, centers_full, learning_rate = 0.01, consecutive_steps = 5, lambda_global = lg)\n",
    "            a, b = metrics(load_model, x_full, indices, deltas, epsilon, k = k) \n",
    "\n",
    "            val = np.mean(a)\n",
    "\n",
    "            if val > best_val:\n",
    "                best_val = val\n",
    "                np.save(\"deltas_corrupted.npy\", deltas)\n",
    "\n",
    "            os.system(\"rm -rf explanation\")"
   ]
  },
  {
   "cell_type": "code",
   "execution_count": null,
   "metadata": {
    "scrolled": false
   },
   "outputs": [],
   "source": [
    "# Evaluate the explanations\n",
    "\n",
    "deltas = np.load(\"deltas_corrupted.npy\")\n",
    "\n",
    "a, b = metrics(load_model, x_full, indices_full, deltas, epsilon, k = k)\n",
    "\n",
    "plot_metrics(a, b, name = \"housing-metrics-corrupted.png\")\n",
    "\n",
    "plot_explanation(load_model, x_full, data_rep_full, indices_full, deltas, a, b, target_corrupted, num_clusters, k = k, name = \"housing-t2c.png\", num_points = 20, feature_names = feature_names)\n"
   ]
  },
  {
   "cell_type": "code",
   "execution_count": null,
   "metadata": {},
   "outputs": [],
   "source": [
    "# Evaluate how much the other explanations changed\n",
    "\n",
    "deltas_original = np.load(\"../Housing-K/deltas\" + str(k) + \".npy\")\n",
    "\n",
    "plot_change(deltas, deltas_original, \"housing-corrupted-similarity.png\", feature_names = feature_names)\n"
   ]
  },
  {
   "cell_type": "code",
   "execution_count": null,
   "metadata": {},
   "outputs": [],
   "source": []
  }
 ],
 "metadata": {
  "kernelspec": {
   "display_name": "Python 3",
   "language": "python",
   "name": "python3"
  },
  "language_info": {
   "codemirror_mode": {
    "name": "ipython",
    "version": 3
   },
   "file_extension": ".py",
   "mimetype": "text/x-python",
   "name": "python",
   "nbconvert_exporter": "python",
   "pygments_lexer": "ipython3",
   "version": "3.7.1"
  }
 },
 "nbformat": 4,
 "nbformat_minor": 2
}
