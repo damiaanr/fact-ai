{
 "cells": [
  {
   "cell_type": "code",
   "execution_count": 1,
   "metadata": {
    "scrolled": true
   },
   "outputs": [],
   "source": [
    "# Chosen using results from Bipolar-K\n",
    "epsilon = 0.75\n",
    "k = 250\n",
    "\n",
    "input_dim = 13166\n",
    "num_clusters = 18\n",
    "\n",
    "model_file = \"../Bipolar/Model/model/perplexity_10_regularizer_0.001_batch_size_512_learning_rate_0.01_latent_dimension_2_activation_ELU_seed_1_iter_5400.ckpt\"\n",
    "pc_matrix_file = \"../Bipolar/Data/bipolar_pc.tsv\"\n",
    "\n",
    "import csv\n",
    "import json\n",
    "import matplotlib\n",
    "import numpy as np\n",
    "import os\n",
    "import pandas as pd\n",
    "\n",
    "os.system(\"rm *.png\")\n",
    "\n",
    "import sys\n",
    "sys.path.insert(0, \"../Bipolar/\")\n",
    "from load_aug import load_aug\n",
    "\n",
    "sys.path.insert(0, \"../Code/\")\n",
    "from explain_cs import explain\n",
    "from metrics import metrics, eval_epsilon\n",
    "from myplot import plot_polys, plot_groups, plot_metrics, plot_explanation\n",
    "from misc import poly2labels\n",
    "\n",
    "matplotlib.rc(\"lines\", markersize = 4)# Override some default plot parameters\n",
    "\n",
    "def load_model(input_dim = input_dim, model_file = model_file):\n",
    "    return load_aug(input_dim, model_file, feature_transform = pc_matrix_file)\n"
   ]
  },
  {
   "cell_type": "code",
   "execution_count": 2,
   "metadata": {
    "scrolled": true
   },
   "outputs": [],
   "source": [
    "# Load Data & Configuration\n",
    "\n",
    "x = pd.read_csv(\"../Bipolar/Data/bipolar_rep_scaled.tsv\", sep=\"\\t\").values\n",
    "\n",
    "with open(\"../Bipolar/vertices.json\") as json_file:  \n",
    "    all_vertices = json.load(json_file)\n"
   ]
  },
  {
   "cell_type": "code",
   "execution_count": 3,
   "metadata": {
    "scrolled": true
   },
   "outputs": [],
   "source": [
    "# Approximate the original data\n",
    "\n",
    "matrix = pd.read_csv(pc_matrix_file, sep = \"\\t\", header = None).values\n",
    "\n",
    "x_full = np.matmul(x, np.transpose(matrix))"
   ]
  },
  {
   "cell_type": "code",
   "execution_count": 4,
   "metadata": {},
   "outputs": [
    {
     "name": "stdout",
     "output_type": "stream",
     "text": [
      "INFO:tensorflow:Restoring parameters from ../Bipolar/Model/model/perplexity_10_regularizer_0.001_batch_size_512_learning_rate_0.01_latent_dimension_2_activation_ELU_seed_1_iter_5400.ckpt\n"
     ]
    },
    {
     "ename": "ValueError",
     "evalue": "too many values to unpack (expected 3)",
     "output_type": "error",
     "traceback": [
      "\u001b[1;31m---------------------------------------------------------------------------\u001b[0m",
      "\u001b[1;31mValueError\u001b[0m                                Traceback (most recent call last)",
      "\u001b[1;32m<ipython-input-4-827c14186cb0>\u001b[0m in \u001b[0;36m<module>\u001b[1;34m\u001b[0m\n\u001b[0;32m      1\u001b[0m \u001b[1;31m# Calculate Data Representation\u001b[0m\u001b[1;33m\u001b[0m\u001b[1;33m\u001b[0m\u001b[1;33m\u001b[0m\u001b[0m\n\u001b[0;32m      2\u001b[0m \u001b[1;33m\u001b[0m\u001b[0m\n\u001b[1;32m----> 3\u001b[1;33m \u001b[0msess\u001b[0m\u001b[1;33m,\u001b[0m \u001b[0mrep\u001b[0m\u001b[1;33m,\u001b[0m \u001b[0mX\u001b[0m \u001b[1;33m=\u001b[0m \u001b[0mload_model\u001b[0m\u001b[1;33m(\u001b[0m\u001b[1;33m)\u001b[0m\u001b[1;33m\u001b[0m\u001b[1;33m\u001b[0m\u001b[0m\n\u001b[0m\u001b[0;32m      4\u001b[0m \u001b[1;33m\u001b[0m\u001b[0m\n\u001b[0;32m      5\u001b[0m \u001b[0mdata_rep\u001b[0m \u001b[1;33m=\u001b[0m \u001b[0msess\u001b[0m\u001b[1;33m.\u001b[0m\u001b[0mrun\u001b[0m\u001b[1;33m(\u001b[0m\u001b[0mrep\u001b[0m\u001b[1;33m,\u001b[0m \u001b[0mfeed_dict\u001b[0m\u001b[1;33m=\u001b[0m\u001b[1;33m{\u001b[0m\u001b[0mX\u001b[0m\u001b[1;33m:\u001b[0m \u001b[0mx_full\u001b[0m\u001b[1;33m}\u001b[0m\u001b[1;33m)\u001b[0m\u001b[1;33m\u001b[0m\u001b[1;33m\u001b[0m\u001b[0m\n",
      "\u001b[1;31mValueError\u001b[0m: too many values to unpack (expected 3)"
     ]
    }
   ],
   "source": [
    "# Calculate Data Representation\n",
    "\n",
    "sess, rep, X = load_model()\n",
    "\n",
    "data_rep = sess.run(rep, feed_dict={X: x_full})"
   ]
  },
  {
   "cell_type": "code",
   "execution_count": null,
   "metadata": {
    "scrolled": false
   },
   "outputs": [],
   "source": [
    "# Visualize the data and the marked clusters\n",
    "plot_polys(data_rep, all_vertices)"
   ]
  },
  {
   "cell_type": "code",
   "execution_count": null,
   "metadata": {
    "scrolled": false
   },
   "outputs": [],
   "source": [
    "# Visualize the clusters in the learned representation\n",
    "\n",
    "labels = poly2labels(data_rep, all_vertices)\n",
    "\n",
    "means, centers, indices = plot_groups(x_full, data_rep, num_clusters, labels, name = \"bipolar-rep.png\")\n"
   ]
  },
  {
   "cell_type": "code",
   "execution_count": null,
   "metadata": {},
   "outputs": [],
   "source": [
    "import tensorflow as tf\n",
    "\n",
    "sys.path.insert(0, \"/home/gregory/Desktop/ELDR/Code/\")\n",
    "from base import MLP, BatchManager  \n",
    "\n",
    "# Format the data to train a classifier\n",
    "\n",
    "not_labeled = np.where(labels > -1)[0] #Drop the unassigned points\n",
    "\n",
    "x_class = data_rep[not_labeled, :]\n",
    "y_class = labels[not_labeled]\n",
    "\n",
    "from sklearn.model_selection import train_test_split\n",
    "x_class, x_class_test, y_class, y_class_test = train_test_split(x_class, y_class)\n",
    "\n",
    "bm = BatchManager(x_class, y_class)\n",
    "\n",
    "# Build the classifier\n",
    "R = tf.placeholder(\"float\", [None, 2], name = \"R_in\")\n",
    "Y = tf.placeholder(tf.int64, shape = [None])\n",
    "I = tf.placeholder(tf.int64, shape = None)\n",
    "\n",
    "with tf.variable_scope(\"stack\", reuse = tf.AUTO_REUSE):\n",
    "\n",
    "    learner = MLP([2, 100, 100, 18])\n",
    "    with tf.variable_scope(\"learner_model\", reuse = tf.AUTO_REUSE):\n",
    "        prob = tf.nn.softmax(learner.model(rep), axis = 1)\n",
    "    \n",
    "    p_i = tf.gather(prob, indices = [I], axis = 1)\n",
    "    g_i = tf.gradients(p_i, X)\n",
    "            \n",
    "    with tf.variable_scope(\"learner_model\", reuse = tf.AUTO_REUSE):\n",
    "        pred_from_rep = learner.model(R)\n",
    "\n",
    "    loss_op = tf.reduce_mean(tf.nn.sparse_softmax_cross_entropy_with_logits(labels = Y, logits = pred_from_rep))\n",
    "    tf.summary.scalar(\"Cross_Entropy\", loss_op)\n",
    "\n",
    "     \n",
    "    optimizer = tf.train.AdamOptimizer(learning_rate = 0.01)\n",
    "    train_op = optimizer.minimize(loss_op)\n",
    "\n",
    "    summary_op = tf.summary.merge_all()\n",
    "\n",
    "# Init all new variables\n",
    "scope_variables=  tf.get_collection(tf.GraphKeys.VARIABLES, scope = \"stack\" )\n",
    "init_scope = tf.variables_initializer(scope_variables, name = \"init_stack\")\n",
    "sess.run(init_scope)\n",
    "\n",
    "# Train\n",
    "for i in range(1000):\n",
    "    x_batch, y_batch = bm.next_batch(batch_size = 32)\n",
    "    sess.run([train_op], feed_dict = {R: x_batch, Y: y_batch})\n",
    "\n",
    "print(\"\")\n",
    "out = sess.run(pred_from_rep, feed_dict = {R: x_class})\n",
    "print(\"Train Accuracy:\", np.mean(np.argmax(out, axis = 1) == y_class))\n",
    "out = sess.run(pred_from_rep, feed_dict = {R: x_class_test})\n",
    "print(\"Test Accuracy:\", np.mean(np.argmax(out, axis = 1) == y_class_test))"
   ]
  },
  {
   "cell_type": "code",
   "execution_count": null,
   "metadata": {},
   "outputs": [],
   "source": [
    "\n",
    "def info(x, i):\n",
    "    p, g = sess.run([prob, g_i], feed_dict = {X: x, I: i})\n",
    "    return p, g[0]\n",
    "\n",
    "sys.path.insert(0, \"Integrated-Gradients-master/IntegratedGradients/\")\n",
    "from integrated_gradients import integrated_gradients\n",
    "\n",
    "\n",
    "deltas = []\n",
    "for g in range(1, num_clusters):\n",
    "    count = 0\n",
    "    average = np.zeros((input_dim))\n",
    "    for index_ref in indices[0]:\n",
    "        baseline = x_full[index_ref, :]\n",
    "        for index_target in indices[g]:\n",
    "            x = x_full[index_target, :]\n",
    "            ig, _ = integrated_gradients(x, g, info, baseline)\n",
    "            \n",
    "            average += ig\n",
    "            count += 1\n",
    "    deltas[g] = average/count\n",
    "    \n",
    "deltas = np.array(deltas)\n",
    "np.save(\"deltas_ig.npy\", deltas)\n",
    "\n"
   ]
  },
  {
   "cell_type": "code",
   "execution_count": null,
   "metadata": {},
   "outputs": [],
   "source": []
  }
 ],
 "metadata": {
  "kernelspec": {
   "display_name": "Python 3",
   "language": "python",
   "name": "python3"
  },
  "language_info": {
   "codemirror_mode": {
    "name": "ipython",
    "version": 3
   },
   "file_extension": ".py",
   "mimetype": "text/x-python",
   "name": "python",
   "nbconvert_exporter": "python",
   "pygments_lexer": "ipython3",
   "version": "3.8.5"
  }
 },
 "nbformat": 4,
 "nbformat_minor": 2
}
