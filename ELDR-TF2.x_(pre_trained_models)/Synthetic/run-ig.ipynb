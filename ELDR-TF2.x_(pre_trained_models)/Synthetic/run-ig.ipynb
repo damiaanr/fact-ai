{
 "cells": [
  {
   "cell_type": "code",
   "execution_count": 1,
   "metadata": {},
   "outputs": [],
   "source": [
    "input_dim = 4\n",
    "num_clusters = 4\n",
    "\n",
    "ntrials = 10\n",
    "lg = 1.5 #lambda_global\n",
    "\n",
    "import numpy as np\n",
    "import os\n",
    "from sklearn.cluster import KMeans\n",
    "\n",
    "import sys\n",
    "sys.path.insert(0, \"../Code/\")\n",
    "from myplot import plot_groups, plot_metrics\n",
    "from train_multiclass import train_multiclass\n",
    "\n",
    "old_stdout = sys.stdout"
   ]
  },
  {
   "cell_type": "code",
   "execution_count": 3,
   "metadata": {},
   "outputs": [
    {
     "name": "stdout",
     "output_type": "stream",
     "text": [
      "INFO:tensorflow:Summary name Cross Entropy is illegal; using Cross_Entropy instead.\n",
      "INFO:tensorflow:Summary name Recon MSE is illegal; using Recon_MSE instead.\n",
      "INFO:tensorflow:Restoring parameters from ./model.cpkt\n"
     ]
    }
   ],
   "source": [
    "# Configure the data generation process and train the autoencoder\n",
    "\n",
    "def gen(n = 400):\n",
    "    \n",
    "    x = np.zeros((n, 4))\n",
    "    y = np.zeros((n))\n",
    "    \n",
    "    for i in range(n):\n",
    "        \n",
    "        if np.random.uniform() < 0.5:\n",
    "            x[i, 0] = 1.0 + np.random.normal(loc = 0.0, scale = 0.2)\n",
    "            y[i] += 1\n",
    "            \n",
    "        if np.random.uniform() < 0.5:\n",
    "            x[i, 1] = 1.0 + np.random.normal(loc = 0.0, scale = 0.2)\n",
    "            y[i] += 2\n",
    "            \n",
    "        x[i, 2] = np.random.normal(loc = 0.0, scale = 0.5)\n",
    "        \n",
    "        x[i, 3] = x[i, 0] + np.random.normal(loc = 0.0, scale = 0.05)\n",
    "        \n",
    "    return x, y\n",
    "\n",
    "x, y = gen()\n",
    "\n",
    "y = y.astype(int)\n",
    "\n",
    "os.system(\"rm -rf Model\")\n",
    "\n",
    "sess, rep, prob, grad_i, X, D, Y, I = train_multiclass(x, y, 4)\n",
    "\n",
    "sys.stdout = old_stdout\n"
   ]
  },
  {
   "cell_type": "code",
   "execution_count": 4,
   "metadata": {},
   "outputs": [],
   "source": [
    "indices = []\n",
    "for i in range(num_clusters):\n",
    "    v = []\n",
    "    for j in range(x.shape[0]):\n",
    "        if y[j] == i:\n",
    "            v.append(j)\n",
    "    indices.append(v)\n"
   ]
  },
  {
   "cell_type": "code",
   "execution_count": 5,
   "metadata": {},
   "outputs": [
    {
     "name": "stdout",
     "output_type": "stream",
     "text": [
      "IG consistently uses the SC variable\n",
      "[[ 0.795  0.     0.009  0.196]\n",
      " [ 0.     0.998  0.002 -0.   ]\n",
      " [ 0.56   0.273  0.004  0.163]]\n"
     ]
    }
   ],
   "source": [
    "def info(x, i):\n",
    "    p, g = sess.run([prob, grad_i], feed_dict = {X: x, I: i, D: np.zeros((1, input_dim))})\n",
    "    return p, g[0]\n",
    "\n",
    "sys.path.insert(0, \"../Integrated-Gradients-master/IntegratedGradients/\")\n",
    "from integrated_gradients import integrated_gradients\n",
    "\n",
    "def ig(init, target, avg_class = False, num_classes = num_clusters, normalize = True):\n",
    "    average = np.zeros((input_dim))\n",
    "    count = 0\n",
    "    for index_ref in indices[init]:\n",
    "        baseline = x[index_ref, :]\n",
    "        for index_target in indices[target]:\n",
    "            point = x[index_target, :]\n",
    "            if avg_class:\n",
    "                for target_class in range(num_classes):\n",
    "                    ig, _ = integrated_gradients(point, target_class, info, baseline)\n",
    "                    average += ig\n",
    "                    count += 1\n",
    "            else:\n",
    "                ig, _ = integrated_gradients(point, target, info, baseline)\n",
    "                average += ig\n",
    "                count += 1\n",
    "    average /= count\n",
    "    if normalize:\n",
    "        average /= np.sum(np.abs(average))\n",
    "        average = np.round(average, decimals = 3)        \n",
    "    return average \n",
    "\n",
    "deltas = []\n",
    "for g in range(1, num_clusters):\n",
    "    deltas.append(ig(0, g))\n",
    "    \n",
    "deltas = np.array(deltas)\n",
    "np.save(\"deltas_ig.npy\", deltas)\n",
    "\n",
    "\n",
    "print(\"IG consistently uses the SC variable\")\n",
    "print(deltas)\n"
   ]
  },
  {
   "cell_type": "code",
   "execution_count": 6,
   "metadata": {},
   "outputs": [
    {
     "name": "stdout",
     "output_type": "stream",
     "text": [
      "IG is not always symmetrical\n",
      "[ 0.701 -0.088  0.     0.211]\n",
      "[ 0.131  0.787 -0.01   0.073]\n",
      "[-5.14206574e-09  2.30849037e-08 -7.12789813e-10  7.21088134e-10]\n",
      "[ 9.17419479e-09 -1.48178121e-08  7.19630824e-10 -2.41104483e-10]\n"
     ]
    }
   ],
   "source": [
    "print(\"IG is not always symmetrical\")\n",
    "\n",
    "print(ig(1, 2))\n",
    "print(ig(2, 1))\n",
    "\n",
    "print(ig(1, 2, avg_class = True, normalize = False))\n",
    "print(ig(2, 1, avg_class = True, normalize = False))\n",
    "\n"
   ]
  },
  {
   "cell_type": "code",
   "execution_count": 7,
   "metadata": {},
   "outputs": [
    {
     "name": "stdout",
     "output_type": "stream",
     "text": [
      "Class 1  1  Class 2  2\n",
      "IG is symmetrical when the `class of interest' is held constant\n",
      "Setting it to  1\n",
      "[ 0.15145647  1.47499919 -0.05085756  0.08864364]\n",
      "[-0.15145647 -1.47499935  0.05085756 -0.08864364]\n",
      "Setting it to  2\n",
      "[-0.81982442  0.05155611 -0.03824885 -0.20114954]\n",
      "[ 0.81982463 -0.05155611  0.03824887  0.20114951]\n",
      "But it isn't as soon as you ask `why is this point in its assigned class as opposed to that other point?'\n",
      "Target  0\n",
      "[-4.55003098e-04 -2.48742502e-03  5.26528866e-05 -3.08719855e-04]\n",
      "Target  1\n",
      "[ 0.15145647  1.47499919 -0.05085756  0.08864364]\n",
      "Target  2\n",
      "[-0.81982442  0.05155611 -0.03824885 -0.20114954]\n",
      "Target  3\n",
      "[ 0.66882315 -1.52406865  0.08905381  0.11281463]\n",
      "Averaged:  [ 4.89437084e-08 -1.94187014e-07  1.11358205e-08  2.41314406e-09]\n",
      "Target  0\n",
      "[ 4.55003132e-04  2.48742565e-03 -5.26528923e-05  3.08719855e-04]\n",
      "Target  1\n",
      "[-0.15145647 -1.47499935  0.05085756 -0.08864364]\n",
      "Target  2\n",
      "[ 0.81982463 -0.05155611  0.03824887  0.20114951]\n",
      "Target  3\n",
      "[-0.668823    1.52406849 -0.08905381 -0.11281456]\n",
      "Averaged:  [ 3.97700116e-08  1.14001508e-07 -7.50105462e-09  7.64817318e-09]\n"
     ]
    }
   ],
   "source": [
    "\n",
    "i1 = indices[1][3]\n",
    "i2 = indices[2][0]\n",
    "\n",
    "x1 = x[i1, :]\n",
    "t1 = y[i1]\n",
    "x2 = x[i2, :]\n",
    "t2 = y[i2]\n",
    "\n",
    "print(\"Class 1 \", t1,  \" Class 2 \", t2)\n",
    "\n",
    "print(\"IG is symmetrical when the `class of interest' is held constant\")\n",
    "\n",
    "print(\"Setting it to \", t1)\n",
    "v, _ = integrated_gradients(x1, t1, info, x2)\n",
    "print(v)\n",
    "v, _ = integrated_gradients(x2, t1, info, x1)\n",
    "print(v)\n",
    "print(\"Setting it to \", t2)\n",
    "v, _ = integrated_gradients(x1, t2, info, x2)\n",
    "print(v)\n",
    "v, _ = integrated_gradients(x2, t2, info, x1)\n",
    "print(v)\n",
    "print(\"But it isn't as soon as you ask `why is this point in its assigned class as opposed to that other point?'\")\n",
    "\n",
    "o = 0\n",
    "for i in range(num_clusters):\n",
    "    print(\"Target \", i)\n",
    "    v, _ = integrated_gradients(x1, i, info, x2)\n",
    "    print(v)\n",
    "    o += v\n",
    "o /= num_clusters\n",
    "print(\"Averaged: \", o)\n",
    "\n",
    "o = 0\n",
    "for i in range(num_clusters):\n",
    "    print(\"Target \", i)\n",
    "    v, _ = integrated_gradients(x2, i, info, x1)\n",
    "    print(v)\n",
    "    o += v\n",
    "o /= num_clusters\n",
    "print(\"Averaged: \", o)\n"
   ]
  },
  {
   "cell_type": "code",
   "execution_count": null,
   "metadata": {},
   "outputs": [],
   "source": []
  },
  {
   "cell_type": "code",
   "execution_count": null,
   "metadata": {},
   "outputs": [],
   "source": []
  }
 ],
 "metadata": {
  "kernelspec": {
   "display_name": "Python 3",
   "language": "python",
   "name": "python3"
  },
  "language_info": {
   "codemirror_mode": {
    "name": "ipython",
    "version": 3
   },
   "file_extension": ".py",
   "mimetype": "text/x-python",
   "name": "python",
   "nbconvert_exporter": "python",
   "pygments_lexer": "ipython3",
   "version": "3.8.3"
  }
 },
 "nbformat": 4,
 "nbformat_minor": 2
}
